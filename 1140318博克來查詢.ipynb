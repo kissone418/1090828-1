{
  "nbformat": 4,
  "nbformat_minor": 0,
  "metadata": {
    "colab": {
      "provenance": [],
      "authorship_tag": "ABX9TyOgFnnjViIP8NqIeinBVUav",
      "include_colab_link": true
    },
    "kernelspec": {
      "name": "python3",
      "display_name": "Python 3"
    },
    "language_info": {
      "name": "python"
    }
  },
  "cells": [
    {
      "cell_type": "markdown",
      "metadata": {
        "id": "view-in-github",
        "colab_type": "text"
      },
      "source": [
        "<a href=\"https://colab.research.google.com/github/kissone418/1090828-1/blob/master/1140318%E5%8D%9A%E5%85%8B%E4%BE%86%E6%9F%A5%E8%A9%A2.ipynb\" target=\"_parent\"><img src=\"https://colab.research.google.com/assets/colab-badge.svg\" alt=\"Open In Colab\"/></a>"
      ]
    },
    {
      "cell_type": "code",
      "execution_count": 1,
      "metadata": {
        "colab": {
          "base_uri": "https://localhost:8080/",
          "height": 443
        },
        "id": "DO1mQwXsNGR6",
        "outputId": "0e2d8f7d-a1f7-4d9f-8488-c9b110a474bf"
      },
      "outputs": [
        {
          "output_type": "stream",
          "name": "stdout",
          "text": [
            "📚 請到博客來查詢一本書，並複製其網址到此程式。\n",
            "輸入 'Q' 退出。\n",
            "請輸入博客來網址: https://www.books.com.tw/products/0010977157?sloc=main\n",
            "✅ 書籍資訊已存入 CSV 檔案。\n",
            "請輸入博客來網址: https://www.books.com.tw/products/0010763075?loc=P_1_001\n",
            "✅ 書籍資訊已存入 CSV 檔案。\n"
          ]
        },
        {
          "output_type": "error",
          "ename": "KeyboardInterrupt",
          "evalue": "Interrupted by user",
          "traceback": [
            "\u001b[0;31m---------------------------------------------------------------------------\u001b[0m",
            "\u001b[0;31mKeyboardInterrupt\u001b[0m                         Traceback (most recent call last)",
            "\u001b[0;32m<ipython-input-1-f5822e86fbc7>\u001b[0m in \u001b[0;36m<cell line: 0>\u001b[0;34m()\u001b[0m\n\u001b[1;32m     81\u001b[0m \u001b[0;34m\u001b[0m\u001b[0m\n\u001b[1;32m     82\u001b[0m \u001b[0;32mif\u001b[0m \u001b[0m__name__\u001b[0m \u001b[0;34m==\u001b[0m \u001b[0;34m\"__main__\"\u001b[0m\u001b[0;34m:\u001b[0m\u001b[0;34m\u001b[0m\u001b[0;34m\u001b[0m\u001b[0m\n\u001b[0;32m---> 83\u001b[0;31m     \u001b[0mmain\u001b[0m\u001b[0;34m(\u001b[0m\u001b[0;34m)\u001b[0m\u001b[0;34m\u001b[0m\u001b[0;34m\u001b[0m\u001b[0m\n\u001b[0m",
            "\u001b[0;32m<ipython-input-1-f5822e86fbc7>\u001b[0m in \u001b[0;36mmain\u001b[0;34m()\u001b[0m\n\u001b[1;32m     68\u001b[0m \u001b[0;34m\u001b[0m\u001b[0m\n\u001b[1;32m     69\u001b[0m     \u001b[0;32mwhile\u001b[0m \u001b[0;32mTrue\u001b[0m\u001b[0;34m:\u001b[0m\u001b[0;34m\u001b[0m\u001b[0;34m\u001b[0m\u001b[0m\n\u001b[0;32m---> 70\u001b[0;31m         \u001b[0murl\u001b[0m \u001b[0;34m=\u001b[0m \u001b[0minput\u001b[0m\u001b[0;34m(\u001b[0m\u001b[0;34m\"請輸入博客來網址: \"\u001b[0m\u001b[0;34m)\u001b[0m\u001b[0;34m\u001b[0m\u001b[0;34m\u001b[0m\u001b[0m\n\u001b[0m\u001b[1;32m     71\u001b[0m         \u001b[0;32mif\u001b[0m \u001b[0murl\u001b[0m\u001b[0;34m.\u001b[0m\u001b[0mstrip\u001b[0m\u001b[0;34m(\u001b[0m\u001b[0;34m)\u001b[0m\u001b[0;34m.\u001b[0m\u001b[0mupper\u001b[0m\u001b[0;34m(\u001b[0m\u001b[0;34m)\u001b[0m \u001b[0;34m==\u001b[0m \u001b[0;34m\"Q\"\u001b[0m\u001b[0;34m:\u001b[0m\u001b[0;34m\u001b[0m\u001b[0;34m\u001b[0m\u001b[0m\n\u001b[1;32m     72\u001b[0m             \u001b[0mprint\u001b[0m\u001b[0;34m(\u001b[0m\u001b[0;34m\"📌 程式結束。\"\u001b[0m\u001b[0;34m)\u001b[0m\u001b[0;34m\u001b[0m\u001b[0;34m\u001b[0m\u001b[0m\n",
            "\u001b[0;32m/usr/local/lib/python3.11/dist-packages/ipykernel/kernelbase.py\u001b[0m in \u001b[0;36mraw_input\u001b[0;34m(self, prompt)\u001b[0m\n\u001b[1;32m   1175\u001b[0m                 \u001b[0;34m\"raw_input was called, but this frontend does not support input requests.\"\u001b[0m\u001b[0;34m\u001b[0m\u001b[0;34m\u001b[0m\u001b[0m\n\u001b[1;32m   1176\u001b[0m             )\n\u001b[0;32m-> 1177\u001b[0;31m         return self._input_request(\n\u001b[0m\u001b[1;32m   1178\u001b[0m             \u001b[0mstr\u001b[0m\u001b[0;34m(\u001b[0m\u001b[0mprompt\u001b[0m\u001b[0;34m)\u001b[0m\u001b[0;34m,\u001b[0m\u001b[0;34m\u001b[0m\u001b[0;34m\u001b[0m\u001b[0m\n\u001b[1;32m   1179\u001b[0m             \u001b[0mself\u001b[0m\u001b[0;34m.\u001b[0m\u001b[0m_parent_ident\u001b[0m\u001b[0;34m[\u001b[0m\u001b[0;34m\"shell\"\u001b[0m\u001b[0;34m]\u001b[0m\u001b[0;34m,\u001b[0m\u001b[0;34m\u001b[0m\u001b[0;34m\u001b[0m\u001b[0m\n",
            "\u001b[0;32m/usr/local/lib/python3.11/dist-packages/ipykernel/kernelbase.py\u001b[0m in \u001b[0;36m_input_request\u001b[0;34m(self, prompt, ident, parent, password)\u001b[0m\n\u001b[1;32m   1217\u001b[0m             \u001b[0;32mexcept\u001b[0m \u001b[0mKeyboardInterrupt\u001b[0m\u001b[0;34m:\u001b[0m\u001b[0;34m\u001b[0m\u001b[0;34m\u001b[0m\u001b[0m\n\u001b[1;32m   1218\u001b[0m                 \u001b[0;31m# re-raise KeyboardInterrupt, to truncate traceback\u001b[0m\u001b[0;34m\u001b[0m\u001b[0;34m\u001b[0m\u001b[0m\n\u001b[0;32m-> 1219\u001b[0;31m                 \u001b[0;32mraise\u001b[0m \u001b[0mKeyboardInterrupt\u001b[0m\u001b[0;34m(\u001b[0m\u001b[0;34m\"Interrupted by user\"\u001b[0m\u001b[0;34m)\u001b[0m \u001b[0;32mfrom\u001b[0m \u001b[0;32mNone\u001b[0m\u001b[0;34m\u001b[0m\u001b[0;34m\u001b[0m\u001b[0m\n\u001b[0m\u001b[1;32m   1220\u001b[0m             \u001b[0;32mexcept\u001b[0m \u001b[0mException\u001b[0m\u001b[0;34m:\u001b[0m\u001b[0;34m\u001b[0m\u001b[0;34m\u001b[0m\u001b[0m\n\u001b[1;32m   1221\u001b[0m                 \u001b[0mself\u001b[0m\u001b[0;34m.\u001b[0m\u001b[0mlog\u001b[0m\u001b[0;34m.\u001b[0m\u001b[0mwarning\u001b[0m\u001b[0;34m(\u001b[0m\u001b[0;34m\"Invalid Message:\"\u001b[0m\u001b[0;34m,\u001b[0m \u001b[0mexc_info\u001b[0m\u001b[0;34m=\u001b[0m\u001b[0;32mTrue\u001b[0m\u001b[0;34m)\u001b[0m\u001b[0;34m\u001b[0m\u001b[0;34m\u001b[0m\u001b[0m\n",
            "\u001b[0;31mKeyboardInterrupt\u001b[0m: Interrupted by user"
          ]
        }
      ],
      "source": [
        "import requests\n",
        "from bs4 import BeautifulSoup\n",
        "import csv\n",
        "\n",
        "# 設定 HTTP 請求標頭，模擬瀏覽器行為\n",
        "HEADERS = {\n",
        "    \"User-Agent\": \"Mozilla/5.0 (Macintosh; Intel Mac OS X 10_14_4) AppleWebKit/537.36 \"\n",
        "                  \"(KHTML, like Gecko) Chrome/74.0.3729.169 Safari/537.36\"\n",
        "}\n",
        "\n",
        "CSV_FILE = 'output.csv'\n",
        "\n",
        "# 初始化 CSV，確保標題正確\n",
        "def init_csv():\n",
        "    try:\n",
        "        with open(CSV_FILE, 'r', encoding='utf-8-sig') as f:\n",
        "            pass  # 如果文件已存在則不做任何動作\n",
        "    except FileNotFoundError:\n",
        "        with open(CSV_FILE, 'w', newline='', encoding='utf-8-sig') as f:\n",
        "            writer = csv.writer(f)\n",
        "            writer.writerow(['排序', '書名', '作者', '出版社', '出版地', 'ISBN', '採購數量', '定價'])\n",
        "\n",
        "# 爬取書籍資訊\n",
        "def fetch_book_info(url):\n",
        "    try:\n",
        "        response = requests.get(url, headers=HEADERS)\n",
        "        response.raise_for_status()  # 檢查 HTTP 回應碼\n",
        "    except requests.RequestException as e:\n",
        "        print(f\"無法取得網頁內容，錯誤: {e}\")\n",
        "        return None\n",
        "\n",
        "    soup = BeautifulSoup(response.text, 'html.parser')\n",
        "\n",
        "    try:\n",
        "        book_title = soup.find(\"title\").text.strip()\n",
        "\n",
        "        # 獲取 meta 資訊\n",
        "        meta_tags = soup.find_all(\"meta\")\n",
        "        meta_content = str(meta_tags[3])\n",
        "        meta_list = meta_content.split(\"，\")\n",
        "\n",
        "        author = next((s[3:] for s in meta_list if \"作者：\" in s), \"未知\")\n",
        "        publisher = next((s[4:] for s in meta_list if \"出版社：\" in s), \"未知\")\n",
        "        isbn = next((s[5:] for s in meta_list if \"ISBN：\" in s), \"未知\")\n",
        "\n",
        "        # 獲取定價\n",
        "        price_tag = soup.find(\"em\")\n",
        "        price = price_tag.string if price_tag else \"未知\"\n",
        "\n",
        "        return [book_title, author, publisher, '', isbn, '', price]\n",
        "    except Exception as e:\n",
        "        print(f\"解析書籍資訊時發生錯誤: {e}\")\n",
        "        return None\n",
        "\n",
        "# 寫入 CSV，使用 `utf-8-sig` 以便 Excel 正確顯示中文\n",
        "def write_to_csv(data):\n",
        "    if data:\n",
        "        with open(CSV_FILE, 'a', newline='', encoding='utf-8-sig') as f:\n",
        "            writer = csv.writer(f)\n",
        "            writer.writerow(['A'] + data)\n",
        "        print(\"✅ 書籍資訊已存入 CSV 檔案。\")\n",
        "\n",
        "# 主程式\n",
        "def main():\n",
        "    init_csv()\n",
        "    print(\"📚 請到博客來查詢一本書，並複製其網址到此程式。\")\n",
        "    print(\"輸入 'Q' 退出。\")\n",
        "\n",
        "    while True:\n",
        "        url = input(\"請輸入博客來網址: \")\n",
        "        if url.strip().upper() == \"Q\":\n",
        "            print(\"📌 程式結束。\")\n",
        "            break\n",
        "        elif not url.startswith(\"https://www.books.com.tw/products/\"):\n",
        "            print(\"⚠️ 請輸入有效的博客來書籍網址！\")\n",
        "            continue\n",
        "\n",
        "        book_info = fetch_book_info(url)\n",
        "        if book_info:\n",
        "            write_to_csv(book_info)\n",
        "\n",
        "if __name__ == \"__main__\":\n",
        "    main()\n"
      ]
    }
  ]
}